{
 "cells": [
  {
   "cell_type": "markdown",
   "id": "2b4b5651-6651-4768-8b97-8df7361b96d8",
   "metadata": {},
   "source": [
    "# Data Science Tools and Ecosystem"
   ]
  },
  {
   "cell_type": "markdown",
   "id": "d6d6f944-d30a-4b14-b1c2-09c83789eb49",
   "metadata": {},
   "source": [
    "In this notebook, Data Science Tools and Ecosystem are summarized."
   ]
  },
  {
   "cell_type": "markdown",
   "id": "75a0b280-9d61-4c07-b79a-6896ef6df5c4",
   "metadata": {},
   "source": [
    "Objectives:\n",
    "- List popular languages for Data Science\n",
    "- List commonly used libraries used by Data Scientists\n",
    "- List Data Science Tools\n",
    "- Examples of arithmetic expressions"
   ]
  },
  {
   "cell_type": "markdown",
   "id": "fb3dd60e-9021-4445-b1a1-ec25a62ff65a",
   "metadata": {
    "tags": []
   },
   "source": [
    "Some of the popular languages that Data Scientists use are:\n",
    "1. Python\n",
    "2. R\n",
    "3. SQL\n"
   ]
  },
  {
   "cell_type": "markdown",
   "id": "4d4f0f62-02c5-4899-9da7-bc258f7d9ffa",
   "metadata": {},
   "source": [
    "Some of the commonly used libraries used by Data Scientists include:\n",
    "1. Numpy\n",
    "2. Pandas\n",
    "3. Matplotlib\n",
    "4. Seaborn\n",
    "5. Tensorflow\n"
   ]
  },
  {
   "cell_type": "markdown",
   "id": "86684f0c-79c7-4934-bf12-b5ce0e4bea8a",
   "metadata": {},
   "source": [
    "| Data Science Tools | \n",
    "| -------------|\n",
    "| Jupyter Notebook |\n",
    "| Hadoop  |\n",
    "| Cassandra  |"
   ]
  },
  {
   "cell_type": "markdown",
   "id": "a96fb669-b195-4e97-9afe-59d3cd97313c",
   "metadata": {},
   "source": [
    "### Below are a few examples of evaluating arithmetic expressions in Python"
   ]
  },
  {
   "cell_type": "code",
   "execution_count": 1,
   "id": "7630c86e-cc21-4f9d-9bec-cdf4d199ef97",
   "metadata": {
    "tags": []
   },
   "outputs": [
    {
     "data": {
      "text/plain": [
       "17"
      ]
     },
     "execution_count": 1,
     "metadata": {},
     "output_type": "execute_result"
    }
   ],
   "source": [
    "# This a simple arithmetic expression to mutiply then add integers\n",
    "(3*4)+5"
   ]
  },
  {
   "cell_type": "code",
   "execution_count": 2,
   "id": "f6804b35-035a-4851-99cf-a582b9b0a1b6",
   "metadata": {
    "tags": []
   },
   "outputs": [
    {
     "data": {
      "text/plain": [
       "3.3333333333333335"
      ]
     },
     "execution_count": 2,
     "metadata": {},
     "output_type": "execute_result"
    }
   ],
   "source": [
    "# This will convert 200 minutes to hours by diving by 60\n",
    "200/60"
   ]
  },
  {
   "cell_type": "markdown",
   "id": "b1ace580-217b-4bc1-b67a-8deeef89c012",
   "metadata": {},
   "source": [
    "## Author\n",
    "Jiyan Yildiz "
   ]
  },
  {
   "cell_type": "code",
   "execution_count": null,
   "id": "ca832c64-18c3-4db5-8a3f-31878d8bff16",
   "metadata": {},
   "outputs": [],
   "source": []
  }
 ],
 "metadata": {
  "kernelspec": {
   "display_name": "Python",
   "language": "python",
   "name": "conda-env-python-py"
  },
  "language_info": {
   "codemirror_mode": {
    "name": "ipython",
    "version": 3
   },
   "file_extension": ".py",
   "mimetype": "text/x-python",
   "name": "python",
   "nbconvert_exporter": "python",
   "pygments_lexer": "ipython3",
   "version": "3.7.12"
  }
 },
 "nbformat": 4,
 "nbformat_minor": 5
}
